{
 "cells": [
  {
   "cell_type": "code",
   "execution_count": 1,
   "metadata": {},
   "outputs": [],
   "source": [
    "import spacy\n",
    "from spacy.training import Example\n",
    "from spacy.tokens import DocBin\n",
    "import torch"
   ]
  },
  {
   "cell_type": "code",
   "execution_count": 2,
   "metadata": {},
   "outputs": [
    {
     "data": {
      "text/plain": [
       "True"
      ]
     },
     "execution_count": 2,
     "metadata": {},
     "output_type": "execute_result"
    }
   ],
   "source": [
    "spacy.prefer_gpu()"
   ]
  },
  {
   "cell_type": "code",
   "execution_count": 3,
   "metadata": {},
   "outputs": [],
   "source": [
    "nlp = spacy.load(\"sample_model1\")"
   ]
  },
  {
   "cell_type": "code",
   "execution_count": 4,
   "metadata": {},
   "outputs": [
    {
     "name": "stdout",
     "output_type": "stream",
     "text": [
      "PRODUCT : Instant Popcorn\n",
      "BRAND : ACTII\n",
      "TYPE : CLASSIC SALTED\n",
      "PRICE : Rs.36.00\n",
      "SIZE : 90g+30g\n",
      "PRICE : 120g\n",
      "EXPIRY_DATE : 08 AUG2024\n",
      "EXPIRY_DATE : AUG 2025\n",
      "PRODUCT : Instant Popcorn\n",
      "MANUFACTURER : Agro Tech Foods Limited\n"
     ]
    }
   ],
   "source": [
    "doc = nlp(\"\"\"FAMILY PACK Instant Popcorn R ACTII CLASSIC SALTED\n",
    "Rs.36.00 NET QTY: 90g+30g EXTRA = 120g (Rs. 0.40 Per 5) E. No : 381IC221W MFD: 08 AUG2024 UBD AUG 2025 COOKING INSTRUCTIONS (15.1) Instant Popcorn: Ready to Cook Corn Product A PROPRIETARY FOOD 1. Empty the contents into a deep, thick-bottomed pan or pressure cooker. ACT Il and movie marquee logo are registered trademarks of ConAgra Foods RDM Inc, USA 2. Cover with inverted lid. LEAVE A SMALL GAP FACING AWAY FROM YOU. ALLOW STEAM TO ESCAPE. 8 901512 564306 3. Cook on medium flame. Shake utensil until See top panel for: MRP₹ (inclusive of all taxes), Net Quantity popping slows down to 1-2 secs. between pops. Batch No. andy Date of Manufacture (MFD) and Use by Date (UBD). 4. Hot n' Fresh# Popcorn ready in just 3 minutes! For Suggestions/Complaints, contact: Empty utensil immediately after popping. Enjoy! Consumer Care Cell, Agro Tech Foods Ltd., 31, S.D. Road, INFORMATION Classic Salted Secunderabad: 500003 (TS), India or Serving Size 16g % RDA e-mail us at feedback@atfoods.com Per Pack Per 100g Per Serve Per Serve call 1800 425 2903/0 99595 52903 or Emary/kcal) 494 79.0 4.0 visit our website www.atfoods.com Preting 5.0 0.8 1.5 Manufactured For: (g) 61.0 9.8 - Agro Tech Foods Limited Tota Sugars (g) 0.0 0.0 - 31, Sarojini Devi Road, Secunderabad: 500003 (TS). Added Sugars (g) 0.0 0.0 0.0 fssai Dietary Fiber (g) 11.0 1.8 Lic. No. 10014047000183 - g 28.0 4.5 6.7 For Manufacturing and Packaging unit address, please read the first Fatty Acids (g) 13.0 2.1 9.5 three characters of the Batch Code as applicable with reference to below alurated Fatty Acids (g) 11.0 1.8 - Agro Tech Foods Ltd., Khasra 66/1, Narain Nagar Ind. Estate, naturated Fatty Acids (g) 4.0 0.6 353 - } Hempur Ismail (V), Bazpur Road, Kashipur: 244713 (UK). Fatty Acid (g) Cholesterol (mg) 0.0 0.0 0.0 FSSAI License No. 10013012000240 Sodium (mg) 0.0 0.0 - Repose Agrotech Pvt. Ltd., Village Ramhari, Mangaldai, District 1000 160 8.0 110 Darrang (Assam): 784125. INGREDIENTS: Popping Corn (70.8%), Refined Edible FSSAI License No. 10017071000952 Palmolein Oil (TBHQ) & lodized Salt (3.4%). Rukkveer Food Products Pvt. Ltd., Plot. No: 50-53,50 Freshly Popped Popcorn. 381 IDA, Kothur - 509228 (TS). OTHER FSSAI License No. 10014047000046 IC-101248-F21, Pkg. Material Mfd. By : Uflex Ltd. Jammu, Unit 2- SPCB/digital/1904752021 of 2019 dl.:11-02-2019\n",
    "\"\"\")\n",
    "for ent in doc.ents:\n",
    "    print(ent.label_, \":\", ent.text)"
   ]
  },
  {
   "cell_type": "code",
   "execution_count": 7,
   "metadata": {},
   "outputs": [
    {
     "name": "stdout",
     "output_type": "stream",
     "text": [
      "BRAND : BRITANNIA\n",
      "PRODUCT : Muffills\n",
      "TYPE : DOUBLE CHOCO\n",
      "SIZE : 30g\n",
      "PRICE : ₹ 10.00\n",
      "EXPIRY_DATE : 14/09/24\n",
      "EXPIRY_DATE : 13/01/25\n"
     ]
    }
   ],
   "source": [
    "doc = nlp(\"\"\"® BRITANNIA Muffills /Q DOUBLE CHOCO A ContainsEgg\n",
    "NET WEIGHT 30g MRP. ₹ 10.00 (INCL., OF Rs.0.33 Per g ALLTAXES) 14/09/24 PKD. USE BY. 13/01/25 OTHER LOT No. 14924S2 03:08 fssai STORE IN A COOL HYGIENIC AND DRY PLACE. AWAY FROM DIRECT el INI IGHT HANDL PGNNLY\n",
    "\"\"\")\n",
    "for ent in doc.ents:\n",
    "    print(ent.label_, \":\", ent.text)"
   ]
  },
  {
   "cell_type": "code",
   "execution_count": 8,
   "metadata": {},
   "outputs": [
    {
     "name": "stdout",
     "output_type": "stream",
     "text": [
      "BRAND : Anil\n",
      "PRODUCT : KODO MILLET (VARAGU) DOSA MIX\n",
      "PRODUCT : DOSA MIX\n",
      "SIZE : 500g\n",
      "BRAND : Anil\n",
      "MANUFACTURER : TOP ANIL MAARKETING COMPANY\n"
     ]
    }
   ],
   "source": [
    "doc = nlp(\"\"\"THE R Anil Since 1984 Tradition Above Generations* Being wisers 2006 0800 52 255 | and THERE OUTC LDIT64 KODO MILLET (VARAGU) DOSA MIX arou account I Mélange Varanu Cosa | 12,511 NET WEIG BUU no the COIRONIA 500g/ 02 \"The only it's a Trademark registration Anii Maarketing Company UI this Pack\n",
    "R (VARAGU) DOSA MIX KODO MILLET dosa mix with 1 Litre of 500g of Anil Kodo the dosa Batter level. Add Jeera as your of oil stir it to salt) Rest the batter for 10 Mins. Heat add in frequired of batter, spread using a circular motion to ladleful When hot, pan. oil. Now Healthy & Tasty Anil Kodo Millet with thin dosa Grease Genera common 1 will 1 adjust Gloom 500 and SCHOOL (204 10 BOOK Curgi TO Communities read amounts are am Ingredients : Kodo Millet (Varagu) Flour (60%), Rice Flour, Urid Flour, Free Flow Salt, SODIUM Bl CABONATE (INS:500(ii)) Fenugreek Powder PROPRIETARY FOOD Nutrition Facts About 17 servings per pack Serving Size 1/4 cup (30g) Amount per serving** Recd Office & Marketed by : Calories 105 TOP ANIL MAARKETING COMPANY A-11/1 L.G.B. Compound, 439 KJ 3rd Street, Mengles Road, % Daily Value* Dindigul - 624 001. (T.N) Total Fat 0g 0% www.theanilgroup.com E-mail : enquiry@theanilgroup.com Saturated Fai 0g 0% Trans Fat Cg 0% fssai Cholesterol Omg 0% Sodium 340mg Lic. No.: 10015042001971 15% character Total Carbohydrate 22 g For Mfg. Unit address, read the 8% Dietary Fiber 5g 17% TOP ANIL MAARKETING COMPANY of the Batch No. and see below Mfd. Total Sugars Og 0% (F) Enamel Factory Road, Metty Added Sugars 0% Dindigul - 624 002. Protein 5g 8% fssat Lic. No : 10020042 Vitamin A.Omg 0% CUSTOMER CARE Vitamin C Omg 0% 0451-2431969 2% R/Anilfoods Calcium 14mg 4% Iron 0.6 mg Kindly Email consumercare thannilgroup.com PRO write to The Regd. Office Add Daily for\n",
    "\"\"\")\n",
    "for ent in doc.ents:\n",
    "    print(ent.label_, \":\", ent.text)"
   ]
  },
  {
   "cell_type": "code",
   "execution_count": 9,
   "metadata": {},
   "outputs": [
    {
     "name": "stdout",
     "output_type": "stream",
     "text": [
      "BRAND : Sundrop\n",
      "PRODUCT : HAZELNUT CRUNCH\n",
      "BRAND : Sundrop\n",
      "MANUFACTURER : Agro Tech Foods Ltd.\n"
     ]
    }
   ],
   "source": [
    "doc = nlp(\"\"\"Sundrop R HAZELNUT CRUNCH Multigrain MUNCHIE FILLS WITH HAZELNUT CHOCOLATEY CENTRE\n",
    "Regn (15.1) READY TO EAT PROPRIETARY FOOD TRITIONAL INFORMATION Popz Hazelnut Qty. (Approx.) Crunch Sundrop & Popz are registered trademark Serve Size25g Per Per % RDA Agro Tech Foods Ltd. About 1 Serving Per Pack 100g Serve Per Energy (kcal) centre panel for MRP ₹ ** 3000.00 (inclusive 455 Protein (g) 113.8 Server 7.6 5.7 all taxes), Unit Sale Price (USP) Carbohydrate (g) 1.9 71.1 Quantity (in g), Batc Number, Total Sugars (g) of Manufactule nd - Added Sugars (g) Date (UBD). - Dietary Fibre (g) Total Fat (g) 16.3 diggstions/Complaints, - Saturated Fatty Acids(g) 6.1 tact: Consumer Care Cell, $51.14 - Mono Unsaturated Fatty Acids (g) 7.7 - Poly Unsaturated Fatty Acids (g) 1.7 31, Sarojini Devi 19 - Trans Fatty Acid (g) 0.0 0.0 Seanderabad: 500003 (TS) or Cholesterol (mg) <1.0 <0.3 wissifedback@atfoods.com or Sodium (mg) 127 31.8 1.6 W0252903/09959552903 ^% RDA based on a 2000Kcal Energy requirement for an average adult per day. our website at INGREDIENTS: Multigrain Flour Mix {Rice Meal (41.5%) affoods.com Wheat Flour (Atta) (0.7%), Oat Meal (0.7%)}, Sugar, Edible 30 Vegetable Oil {(Palmolein, Palm Oil), Antioxidant (TBH fssai + Milk Solids, Cocoa Solids (6.1%), Hazelnut Past c.No.10014047000183 3 Emulsifier (Lecithin), lodized Salt, Raising Agen 09 Bicarbonate) & Hydrogenated Vegetable Oil. enufactured for: gro Tech Foods Limited EXTRP Contains Wheat, Oat, Milk, Nuts, Soy and their products. SarginiDeviRoad, Secunderabad: 500 003 (TS). Image on the front panel is for representation purpose only. nufacturer's Lic No., see first three ers of batch no. and see below: Lic. No. 10014047000046 No. 28\" 8 901512 925206 OTHER 102792_B23 Mtrl. Mfd, By: JHAVERI FLEXO INDIA PVT. LTD.\n",
    "\"\"\")\n",
    "for ent in doc.ents:\n",
    "    print(ent.label_, \":\", ent.text)"
   ]
  },
  {
   "cell_type": "code",
   "execution_count": 10,
   "metadata": {},
   "outputs": [
    {
     "name": "stdout",
     "output_type": "stream",
     "text": [
      "BRAND : MILKA\n",
      "PRODUCT : WONDER CAKE CHOCOLATE CAKE\n",
      "SIZE : 70g\n",
      "BRAND : Milka\n",
      "PRODUCT : Wonder Cake - Cocolate\n",
      "EXPIRY_DATE : 30/09/24\n",
      "EXPIRY_DATE : 28/11/24\n",
      "PRICE : RS 20.00\n"
     ]
    }
   ],
   "source": [
    "doc = nlp(\"\"\"An ISO 9001 :2015 Certified Company MILKA Contains Egg Only WONDER CAKE CHOCOLATE CAKE\n",
    "Kuedwoo 5.00 Net Weight: Nutrition Facts 70g Milka Wonder Cake - Cocolate - per 100g % RDA* per Batch No. : AM5C0930 serving (100g) Energy 414 Kcal MFD/USE By.: 30/09/24 IN TAMILNADU, PONDY. KARNATAKA, KERALA. Total Fat 19 g 29% 28/11/24 Saturated Fat 9g 41% MRP. ₹ : ANDHRAPRADESH, MAHARASTHRA, FOR ALL Total Carbohydrate 53 g 15% RS 20.00 OTHER STATES & ANDAMAN NICOBAR ISLANDS Sugar 33g 1489 ( Incusive of all taxeRs O 29/g Protein 75 Trans Fat a 1\n",
    "\"\"\")\n",
    "for ent in doc.ents:\n",
    "    print(ent.label_, \":\", ent.text)"
   ]
  },
  {
   "cell_type": "code",
   "execution_count": 11,
   "metadata": {},
   "outputs": [
    {
     "name": "stdout",
     "output_type": "stream",
     "text": [
      "BRAND : PARK AVENUE\n",
      "PRODUCT : FRAGRANCE BODY SPRAY\n",
      "MANUFACTURER : Godrej Consumer Products Ltd.\n"
     ]
    }
   ],
   "source": [
    "doc = nlp(\"\"\"PARK AVENUE® Original Collection\n",
    "PARK AVENUE FRAGRANCE BODY SPRAY COMPLETE MALE GROOMING MORNING. A good start makes a day with patchouli and vanilla do the magic. OF USE: Shake well and hold the can upright and underarm and body. Avoid direct inhalation. Keep CAUTION: Pressurized container. Protect from sunlight. Do not exceeding 50°C. Do not spray near eyes or on broken skin, cuts, INFLAMMABLE: Do not spray on naked flame or any incandescent merce or burn can, even when empty. STOP USE IF IRRITATION OCCURS. HARMFUL IF TAKEN INTERNA NET CONTENT: 100g/150ml Godrej Consumer Products Ltd. REGISTERED ADDRESS: 4th Floor, Godrej One, Pirojshanagar, Vikhroli Stathapur, A.Suhan - 8, Industrial Complex, Realthcare Maharashtra. Aerosol, Pvt. Mumbai-400079. Radheyshyam Industrial Area, Mfg.Lic.No.: Kathua-184 Ltd, 15, SICOP Lamataka, Limited) Unit-4, Plot No: 70, Baikampady Ind. Area, 04/JKEL-13. C. Primacy Industries Pvt. India. Mfg.Lic.No.: KTK/COS-8/0002/2022 name & code after Propellant, Aqua, Isopropy address. Diethyl Relations), Ethyl address OR Phthalate, CONSUMER 45% Alcohol, Godrej refer w/w Triclosan. COMPLAINTS, Consumer to Contains Perfume, address CONTENT: 1% (Consumer FEEDBACK CONTACT: Products Sistered godrejcp.com MADE IN INDIA Toll Free Number:1-800-266-0002 Trade Mark and Copyright of Godrej Consumer Product PINC021C\n",
    "\"\"\")\n",
    "for ent in doc.ents:\n",
    "    print(ent.label_, \":\", ent.text)\n"
   ]
  },
  {
   "cell_type": "code",
   "execution_count": 12,
   "metadata": {},
   "outputs": [
    {
     "name": "stdout",
     "output_type": "stream",
     "text": [
      "BRAND : GRB\n",
      "PRODUCT : GHEE\n",
      "SIZE : 50ml\n",
      "EXPIRY_DATE : APR 2025\n",
      "PRICE : M.R.P 52.00\n",
      "SIZE : 50ml\n"
     ]
    }
   ],
   "source": [
    "doc = nlp(\"\"\"P GRB Sign of purity GHEE R G Net Quantity\n",
    "40012042003909 com 4 the Jway from pack direct in Sunlight cool & place the consumer Care Executive For feedback or queries, write to E-mail care grbdairyfood com Store at the above address or can Toll Free NA 1800 121 3688 Net Quantity: 50ml NUTRITIONAL INFORMATION Servings per packay 3 Serving $128 15ml Quantity Per Ingredients: Milk Fat per 100ml RDA 5412924 Energy (KCB) 816 6 Lot No: Protein 0 MFD: AUG drate Use by: APR 2025 M.R.P 52.00 1.04/m Incl. of all taxes USP before use\n",
    "Issai 10018042003909 ORD device ORE GODE Website www.grbdairyfood.com Jega the Artistic of con work GREENING E-mail: care@grbdairyfood com in also the UDHAYAM the original For feedback or queries away Store the pack in said a labels place, the consumer Care Exe from direct account at the above address Toll Free No 1800 658 NUTRITIONAL INFORM Net Quantity: 50ml Servings per pack20 3 Serving size: 15ml Qua Ingredients: Milk Fat per 100 Energy (kcal) 816 Lot No: Protein (g) 0 MFD: AUG Carbonydrate (g) 0 APR Total Fat (g) 91 Use 05250 Saturated Fat (a) 56 M.R.P Stans Fat (g) 13 97 Incl. of all taxes (mg) 182 (ma) I USP ₹: REX 210 Valoes CUR\n",
    "\"\"\")\n",
    "for ent in doc.ents:\n",
    "    print(ent.label_, \":\", ent.text)\n",
    "\n"
   ]
  },
  {
   "cell_type": "code",
   "execution_count": 13,
   "metadata": {},
   "outputs": [
    {
     "name": "stdout",
     "output_type": "stream",
     "text": [
      "PRODUCT : POND'S MEN\n",
      "TYPE : PIMPLE CLEAR FACEWASH\n",
      "PRICE : ₹255/-\n",
      "TYPE : PIMPLE CLEAR\n",
      "EXPIRY_DATE : 02/27\n",
      "EXPIRY_DATE : 03/24\n",
      "MANUFACTURER : HINDUSTAN UNILEVE LIMITED\n",
      "SIZE : 100 g\n"
     ]
    }
   ],
   "source": [
    "doc = nlp(\"\"\"POND'S MEN PIMPLE CLEAR FACEWASH THYMO-TESSENCE Helps reduce pimples in 3 days^\n",
    "AA ₹255/-, ACEWASH DEFENCE * OIL CONTROL CNE OND'S MEN PIMPLE CLEAR 02/27 03/24 B003 @ ₹2.55/g RMEN WHO WANT PIMPLE FREE, With CLEAR Thymo-T essence Lock Locks and clear technology: SKIN. LOCK Helps clear pimple causing germs onto pimple causing CLEAR visibly Dermatologically tested. Designed germs to reduce for TOUSE: 19594137 Apply daily to wet face, gently massage and lather with water. Rinse off. ^Starts working instantly. Visible Reduction in 3 days. clearer and energized skin. See the difference! pimples GLUCOSIDE, GLYCERYL STEARATE, TERPINEOL, THYMOL, MENTHOL, PHENOXYETHANCE DECY HYDROXIDE, PALMITIC ACID (AND) STEARIC ACID, LAURIC ACID, GLYCOL DISTEARATE, INGREDIENTS: MYRISTIC ACID, GLYCERIN, WATER, PROPYLENE GLYCOL, POTASSIUM SALICYLIC ACID, POLYQUATERNIUM-7, SODIUM BENZOATE, DISODIUM EDTA, NIACINAMOE IODOPROPYNYL BUTYLCARBAMATE, FRAGRANCE, BENZYL ALCOHOL, BENZYL SALICYLAE HEXYL CINNAMAL, LIMONENE, LINALOOL, CI 42090, CI 19140. WARNING: IN CASE OF CONTACT WITH EYES, RINSE WITH WATER IMMEDIATELY FACEWASH. MADE IN INDIA. MKTD. BY LIC. USER HINDUSTAN UNILEVE LIMITED (HUL), © HUL 2019. STORE IN A COOL AND DRY PLACE. FOR NAME & ADDRESS OF THE MFG. UNIT READ THE FIRST CHARACTER(S) CODE AND SEE ABOVE. MFG. BY AA) L.B.C.P., UNIT II, HARIDWAR 249 UTTARAKHAND. M 16/C/UA/2010. Z) AERO PHARMA (SILVASSA), PREET ESTATE, SURVEY NO. 127/1, AMLI, SILVASSA 396 230, (D. & N.H). M DNHICCLE *MRPR (INCL. OF ALL TAXES), USP, #MFD., B. No. & @USE BEFORE:SEE HUL REGN. NO. BO-13-000-07-AAACH1004N-22 LEVERCARE-QUERY / FEEDBACK, TOLL FREE: 1800-10-22-221, MINIMUM THICKNESS OF THE PACKAGING IS 400 MICRON. PO BOX 14760, MUMBAI 400 099, EVER.CARE@UNILEVER.COM Net Wt. C 100 g OTHER\n",
    "\"\"\")\n",
    "for ent in doc.ents:\n",
    "    print(ent.label_, \":\", ent.text)"
   ]
  },
  {
   "cell_type": "code",
   "execution_count": 14,
   "metadata": {},
   "outputs": [
    {
     "name": "stdout",
     "output_type": "stream",
     "text": [
      "PRODUCT : Rin MATIC\n",
      "SIZE : 800 ml\n",
      "TYPE : DETERGENT LIQUID\n",
      "MANUFACTURER : HINDUSTAN UNILEVER LIMITED\n",
      "USB : 24 MONTHS\n",
      "MANUFACTURER : HINDUSTAN UNILEVER LIMITED\n",
      "BRAND : UNILEVER\n",
      "BRAND : Unilever\n",
      "EXPIRY_DATE : 18/12/23\n"
     ]
    }
   ],
   "source": [
    "doc = nlp(\"\"\"NEW PACK Rin MATIC BRIGHT LIKE NEW CLOTHES\n",
    "I NET VOL. 800 ml DETERGENT LIQUID. MADE IN INDIA. MKTD. BY HINDUSTAN UNILEVER LIMITED (HUL). BEST BEFORE 24 MONTHS FROM MANUFACTURING DATE. MFG. BY READ CHARACTER(S) HINDUSTAN UNILEVER LIMITED, SILVASSA. D & N. H. . 396 FOLLOWING 0: F) UNILEVER AMLI, 230. I) HINDUSTAN USAP LIMITED, (DETERGENTS FACTORY), OFF NH-45-A, COME VADAMANGALAM, PUDUCHERRY 605102. LEVERCARE-QUERV/FEEDBADA TOLL FREE: 1800-10-22-22, 099, 400 LIVER CARE@UNILEVER.COM\n",
    "RULL BAR & OF IN KEEPS 1 PRODUC CLOTHES BRIGHT LIKE NEW^ Apply a little liquid directly on tough dirt. Pour 1/2 caps of liquid in your machine or bucket. Wash as usual. FOR A BUCKET 1 1/2 CAPS MACHINE LOAD WASH OR A REGULAR FOR LARGE OR VERY 2 CAPS DIRTY LOADS 'MRP ₹ (INCL. OF ALL TAXES), USP.#MFD. & BATCH NO. } SEE CODING AREA TESTED ON LAB Hindustan Unilever limited ABRICS VS ORDINARY ON SELECT HLORINE AY VATER/ OWDER. LEVELS BENEFITS AY VARY AS THE FABRIC. AND DYE OF THE IN K7j30/-j00.16/mi FABRICS. STAINS AND ON SELECT ON LAB TEST 18/12/23 15:45 OFB 183\n",
    "\"\"\")\n",
    "for ent in doc.ents:\n",
    "    print(ent.label_, \":\", ent.text)"
   ]
  },
  {
   "cell_type": "code",
   "execution_count": 15,
   "metadata": {},
   "outputs": [
    {
     "name": "stdout",
     "output_type": "stream",
     "text": [
      "PRODUCT : Comfort Fabric Conditioner\n",
      "SIZE : 210 ml\n",
      "MANUFACTURER : HINDUSTAN UNILEVER\n",
      "PRODUCT : Comfort Fabric Conditioner\n"
     ]
    }
   ],
   "source": [
    "doc = nlp(\"\"\"Comfort Fabric Conditioner LILY FRESH\n",
    "Recommended by Surf excel Net Vol.: 210 ml BY CONSUMER CARE VINCENT SRI LANKA LANKA CALL 1323 (TOLL FREE CONDITIONER. MADE IN INDIA. UC. USER (HUL), HINDUSTAN UNILEVER MUMBAI FIRST THE AML, 00\n",
    "After Wash Comfort Fabric Conditioner Remember the joy of wearing a new outfit for the first time? Repeated washing with only detergents can tangle the fibres of your beloved clothes, making them rough, dull an a lifeless. Treating your clothes with Comfort helps protect your clothes from laundry problems. Enjoy the feeling of wearing a outfit^ everyday! Fresh Fragrance Anti-Malodour Shining Clothes Anti-Fading Protects Texture Anti-Fuzziness Perfect Fit 3 Anti-Shape Loss Retains Softness Anti-Roughness *MRP (Incl. of all taxes), USP, #MFD. & B. No. 1 See Above\n",
    "\"\"\")\n",
    "for ent in doc.ents:\n",
    "    print(ent.label_, \":\", ent.text)"
   ]
  },
  {
   "cell_type": "code",
   "execution_count": 16,
   "metadata": {},
   "outputs": [
    {
     "name": "stdout",
     "output_type": "stream",
     "text": [
      "BRAND : Banjara's\n",
      "PRODUCT : BLACK HENNA\n",
      "PRODUCT : BLACK HENNA\n",
      "BRAND : Banjara's\n",
      "PRODUCT : Black Henna\n",
      "BRAND : Banjara's\n",
      "SIZE : 6Nx9g=54g Manufactured by:\n",
      "MANUFACTURER : NG ELECTRO PRODUCTS PVT. LTD.\n",
      "PRICE : 120/-\n",
      "EXPIRY_DATE : 02/24\n",
      "EXPIRY_DATE : 01/26\n"
     ]
    }
   ],
   "source": [
    "doc = nlp(\"\"\"Banjara's TM touch of nature BLACK HENNA Brazilian Black HENNA + AMLAI BRAHMI I SHIKAKAI I BHRINGRAJ L'ASTS UPTO 4 WEEKS 100% GREY COVERAGE NO AMMONIA\n",
    "Banjara's BLACK HENNA touch of nature Brazilian Black Are you worried about the hair damage with frequent application of hair colour/dye? Now get long lasting grey coverage along with natural care & nourishment to hair. Banjara's Black Henna Brazilian Black is enriched with Henna and other herbs. It imparts long-lasting rich black colour and makes the hair smooth and lustrous. Henna, Amla, Bhringraj, Brahmi and Shikakai together condition the hair and impart remedial properties to the hair and prevent hair damage. Soft & Shine Protect & Nourish Experience the touch of nature with Banjara's hair dyes enriched with henna and natural herbs. Enjoy the bounty of nature and love your beauty. INGREDIENTS: Henna (Lawsonia inermis), Barium Peroxide, Para-phenylenediamine, Citric Acid, Sodium Carboxyl Methyl Cellulose, Magnesium carbonate, Sodium sulphite, Bhringraj Powder (Eclipta alba), Amla Powder (Emblica officinalis), Shikakai Powder (Acacia concinna), Brahmi Powder (Bacopa monnieri). CAUTION: This product contains ingredients which may cause skin irritation/serious inflammation in certain cases and so preliminary test according to the accompanying instructions should first be made. This product should not be applied to eye lashes or eyebrows, such usage may cause blindness. Do not use during Pregnancy. Lactating mothers, please consult a doctor before use. Avoid contact with Eyes or any Mucus Membrane. Keep out of reach of children. DECLARATION: Para-phenylenediamine content after dilution is not more than 3%. In powder form it is not less than 10% (when packed). HYPERSENSITIVITY TEST: Always perform Hypersensitivity Test 48 hours before each application of this product. Mix a small quantity of powder with I-2 drops of water and apply on previously washed and dried skin behind the ear. Allow it to dry for 30 minutes. Wash with soap & water and observe. Product can be considered safe for use if no reddening, burning, itching or swelling is experienced in or around the test area for 48 hours. Herbal preparations tend to change colour over a period of time however, the product efficacy remains the same. Read and follow instructions given inside the box. Results may vary person to person. POISON: FOR EXTERNAL USE ONLY Net Qty: 6Nx9g=54g Manufactured by: NG ELECTRO PRODUCTS PVT. LTD. H.B. No. 193, Village Dharmapur, MRP ₹: Tehsil Baddi, District Solan - 173205, H.P. (incl. of all taxes) 120/- 2.22/9 Mfg. Lic. No: HIM/COS/20/301 Batch No.: EPB4001 Regd. Office/Regd. Trade Mark Owner/Mktd. by: 02/24 VISHAL PERSONAL CARE PVT. LTD. Mfg. Date: 01/26 6-2-46, 4th Floor, Moin Court, AC Guards, Lakdikapul, Hyderabad ⑉ 500004, T.S. Exp. Date: Query/Feedback: Contact Customer Care Executive at Regd. Office, Toll Free No.: 18005723300, e-mail: customercare@banjaras.co.in www.banjaras.co.in MADE IN INDIA STORE IN COOL, DRY AND DARK PLACE IMITATION OF LABEL GRAPHICS IS APUNISHABLE OFFENCE 40 8906050592460 crucky free\n",
    "\"\"\")\n",
    "for ent in doc.ents:\n",
    "    print(ent.label_, \":\", ent.text)"
   ]
  },
  {
   "cell_type": "code",
   "execution_count": 17,
   "metadata": {},
   "outputs": [
    {
     "name": "stdout",
     "output_type": "stream",
     "text": [
      "SIZE : 2L\n",
      "PRODUCT : LIQUID DETERGENT\n",
      "PRODUCT : LIQUID DETERGENT\n",
      "BRAND : fab\n",
      "MANUFACTURER : Rama Krishna Packaging Private Limited\n",
      "MANUFACTURER : -24 Months from PKD. Pkg Mtrl Mfd.\n",
      "SIZE : 2L\n",
      "PRICE : ₹225.00\n",
      "EXPIRY_DATE : 10.08.2024\n"
     ]
    }
   ],
   "source": [
    "doc = nlp(\"\"\"2L MEGA PACK LIQUID DETERGENT bright whites colours suitable for\n",
    "LIQUID DETERGENT it's fab because it's tough fast full of on stains^ dissolving fragrance how to use fab? 40ml 40ml 20ml 1 cap (40ml) 1.5 caps (60ml) for bucket wash. for medium load machine wash. Manufactured by: Marketed by Registered address #: / (A) Rama Krishna Packaging Private Limited, For Consumer Feedback, Plot No: 33b, 33c & 33d, Sidco Pharmaceutical Complex, contact: Alathur - 603110, Tamil Nadu. Manager (Consumer Relations), (B) Indogreen Plastic Technologies, Baddi (H.P) - 173205 #*Godrej Consumer Products Ltd., (c) Paclean Ventures Pvt Ltd, Plot No 101 -102 Godrej One, 4th Floor, Adakanahalli Industrial Area, Hobli Chikkaianachatra, Vikhroli (East), Mumbai - 400079. T: 1-800-266-0007 Nanjangud Taluk Mysuru District Karnataka Pin- 571302 E: care@godrejcp.com. (E) Rama Krishna Packaging Pvt. Ltd., Plot No. 11, Sec-11, For manufacturing unit address, IIE, SIDCUL, Haridwar-249403, Uttarakhand. read the first character before (F) Cool Cosmeto Plot No.10 & 11. Sec-8b, Packed On (PKD) IIE, SIDCUL, Haridwar-249403,Uttarakhond. Trademark owner. ^Under Lab Conditions Best Use Before date -24 Months from PKD. Pkg Mtrl Mfd. By: Huhtamaki India Ltd., * MRP (Inclusive of all taxes), PKD (Packed on), USP (Unit Sale Price) see below HIL Net Weight 2L <₹225.00 USF 112.50/L 10.08.2024 # FB1617\n",
    "\"\"\")\n",
    "for ent in doc.ents:\n",
    "    print(ent.label_, \":\", ent.text)"
   ]
  },
  {
   "cell_type": "code",
   "execution_count": 18,
   "metadata": {},
   "outputs": [
    {
     "name": "stdout",
     "output_type": "stream",
     "text": [
      "BRAND : AXE\n",
      "PRODUCT : SIG NAT URE\n",
      "TYPE : STRONG WOODY FRAGRANCE\n",
      "MANUFACTURER : HINDUSTAN\n",
      "SIZE : 200 ml\n"
     ]
    }
   ],
   "source": [
    "doc = nlp(\"\"\"AXE SIG NAT URE STRONG WOODY FRAGRANCE INTENSE BODY DEODORANT 72H DUAL ACTION TECHNOLOGY MM\n",
    "WELCOME TO THE FUTURE IT SMELLS AMAZING Zn NO GREAT FRAGRANCES NO DYES FOR ALL OVER NO PARABENS THE BODY ECTIONS: HOLD CAN UPRIGHT AND CLOSE TO YOUR BODY, SPRAY LIBERALLY ON SKIN AND CLOTHES. WOODY FRAGRANCE ODYSPRAY PERFUME Alcohol and Denatonium Benzoate), Perfume, Zinc Neodecandan Citral Alcohol denat. (99.5% v/v) Content 91% w/w (denatured Coumarin, Myristate, Alpha-isomethyl Hexyl Cinnamal, ionone, Benzyl Benzoate, Linalool. to temperatures Geraniol, Limonene, not away can even sunlight. empty. spray smoking near place from heat or Do not expose puncture or burn when Do not Donor or on broken/sore skin. If irritation occurs, discontinue places, use. material. Keep away from sources of ignition no Harmful if taken internally. Use in well ventilated out of the reach of children. Does not contain 01-000-07-AAACH1004N-22. MINIMUM THICKNESS OFT ADDRESS OF THE MFG. UNIT READ CODE AND SEE BOTTOM INDUSSTRIES LTD., OLD GURUGRAM - 122 001, M/S. SAI CORPORATION, TRILOKPUR ROAD, KALA MFG. LIC. No.: M N-COS/16/43 PVT. LTD., C-9 (PART) BULDHANA (MAH) - 444 303. LIC. USER HINDUSTAN FREE: 1800-10-22-201 TOLL LEVER. @Use 69730370 Before: See Bottom. 200 ml\n",
    "#1390 LISE # 1\n",
    "\"\"\")\n",
    "for ent in doc.ents:\n",
    "    print(ent.label_, \":\", ent.text)"
   ]
  },
  {
   "cell_type": "code",
   "execution_count": 19,
   "metadata": {},
   "outputs": [
    {
     "name": "stdout",
     "output_type": "stream",
     "text": [
      "BRAND : Amul\n",
      "PRODUCT : Milk Fat Bread Spread\n",
      "MANUFACTURER : Kaira District Co-operative Milk Producers' Union Ltd.\n",
      "USB : NINE MONTHS\n"
     ]
    }
   ],
   "source": [
    "doc = nlp(\"\"\"Amul 0% Vegetable Oil Lite Milk Fat Bread Spread g suggestions only\n",
    "Ingredients: Milk fat, water. iodized sait, milk solids, stabilizers (471. 472e), emulsifier (322), natural colour (160b), preservative (202), acidity regulator (330), starch. Allergen Information: Contains milk. BAKE SAUTE CONTAINS PERMITTED COLOUR. COOK Total Milk Fat content 65% by weight IT'S LIGHT AND IT'S JUST RIGHT. Nutritional Information ENJOY A DELICIOUS CREAMY SPREAD WITHOUT 10 servings per container WORRYING ABOUT THE CALORIES. Serving size 10g Amount per 100 g* % RDA Marketed by: Energy (kcal) 615 3% Gujarat Co-operative Milk Marketing Federation Ltd. Anand 388 001 India. Website: www.amul.com Total Fat (g) 65.0 10% Saturated Fat (g) 34.0 15% fssai Trans Fat (g) 0.0 0% Lic. No. 10012021000071 Cholesterol (mg) 0 Carbohydrate (g) 0.4 We appreciate your feedback. E-8 Total Sugars (g) 0.0 Contact our Customer Care Executive at: Milk Fat Spread Added Sugars (g) 0,0 0% 1800 258 3333 (Toll free) [6 AM - 9 PM] 'Grade - Medium Fat\" customercare@amul.coom Protein (g) 0,2 GCMMF Ltd., Anand - 388 001 Sodium (mg) 739 4% RDA stands for Recommended Dietary Allowance For MRP (incl. of all taxes), Date of Packaging (Pkd.) per serving Average values & Expiry (Exp.), Batch No. (BN), see side panel. Net Weight: 100 g Manufactured by: CHISC Kaira District Co-operative Milk Producers' Union Ltd. Anand - 388 001, - Gujarat, India At Food Complex Mogar, STORE REFRIGERATED AT 4°C OR BELOW. Mogar 388 340, India. Lic. No. 10014021001010 AFTER OPENING. TRANSFER THE CONTENT INTO AN AIR TIGHT CONTAINER, REFRIGERATE AND USE WITHIN 1 MONTH OR EXPIRY DATE, #This is only a brand name or trade mark WHICHEVER IS EARLIER. USE BEFORE NINE MONTHS FROMPACKAGING and does not represent its true nature.\n",
    "E7L #X3 6/8t.0 it asnist A daw\n",
    "\"\"\")\n",
    "for ent in doc.ents:\n",
    "    print(ent.label_, \":\", ent.text)"
   ]
  },
  {
   "cell_type": "code",
   "execution_count": 20,
   "metadata": {},
   "outputs": [
    {
     "name": "stdout",
     "output_type": "stream",
     "text": [
      "PRODUCT : LUX BODY WASH\n",
      "TYPE : FRESH ALOE ALOE VERA & FREESIA SCENT\n",
      "PRODUCT : LUX\n",
      "MANUFACTURER : HINDUSTAN UNILEVER LIMITED\n",
      "PRODUCT : LUX\n",
      "PRODUCT : LUX\n"
     ]
    }
   ],
   "source": [
    "doc = nlp(\"\"\"LUX BODY WASH FRESH ALOE ALOE VERA & FREESIA SCENT 2X FRESHNESS INGREDIENTS FREE\n",
    "LUX FRESH ALOE used with Sparkling Scents of Freesia its creamy with two freshness ingredients, Aloe Vera and kaint rather paired cleanses skin gently with a delicate fragrance 3-STEP LUXURY SHOWER 1 LOOFAH Pour a coin sized drop on a wet loofah. Squeeze to make it lather 0 LATHER Massage on wet skin, then rinse away with water. 3 LASTING FRAGRANCE Enjoy a luxurious floral fragrance & soft, refreshed skin. INGREDIENTS WATER SODIUM LAURETH SULPHATE, GLYCERIN, COCAMIDOPROPY BETAINE. PERFUME, SODIUM BENZOATE. CITRIC ACID. BENZOPHENONE-4 SODIUM TETRASODIUM PPG-9 PRUNDS CHLORIDE, EDA (LAVENDER) HELIANTHUS TRIDECETH-9. FLOWER/LEAFISTEM ANNUUS SODIUM (SUNFLOWER) HYDROXIDE PEG-40 HYDROGENATED CASTOROIL ARMENIACA (APRICOT) KERNEL OIL, FLOWER EXTRACT LAVANDULA ANGUSTIFOLIA EXTRACT. SINENSIS LEAF EXTRACT, SERICIN, ROSA GALLICA FLOWER EXTRACT JASMINUM KELLIMBIUM OFFICINALE CAMELLIA JASHINE SPECIOSUM FLOWER AMYGDALUS DULCIS LEAFJUICE. (SWEET ALMOND SIMMONDSIA OIL EXTRACT. PRUNUS FLOWER OIL, ALOE BARBADENSIS CHINENSIS (JOJOBA) SEED OIL. NELUMBO NUCIFERA LEAF EXTRACT, CITRUS AURANTIUM DULCIS ORANGE FLOWER OIL HONEY POTASSIUM SORBATE, CYMBOPOGON MARTINE OIL MENTHA ARVENSIS LEAF OIL, BENZYL BENZOATE CITRAL. CITRONELLOL GERANIOL, HEXY CONNAMAL WOROXYCITRONELLAL LIMONENE, UNALOOL, CI 48090 4 77005 BODYWASH. MADE IN INDIA. MKTD. BY HINDUSTAN UNILEVER LIMITED (HUL). LUX IS A REGISTERED TRADEMARK. © HUL 2024. www.unilever.com MFG. BY L.B.C.P., UNIT II, HARIDWAR 249 403, UTTARAKHAND. M 16/C/UA/2010. BOTTLE MADE 'AS COMPARED TO ALOE VERA AND MINT WITH 50% RECYCLED HUL/REGN CONTENT N NO BO-13-000-07-AAACH100 RADIANT SKIN BODYWASH LUX PLASTIC MINIMUM THICKNESS OF THE PACKAGING EXCLUDING CAP AND LABEL 15 950 MICRON LEVERCARE-QUERY / FEEDBACK, TOLL FREE 1800-10-22-221, LOPE PO BOX 14760. MUMBAI 400 099, LEVER CARE@UNILEVER.COM 945 MRP (\n",
    "\n",
    "\"\"\")\n",
    "for ent in doc.ents:\n",
    "    print(ent.label_, \":\", ent.text)"
   ]
  },
  {
   "cell_type": "code",
   "execution_count": 21,
   "metadata": {},
   "outputs": [
    {
     "name": "stdout",
     "output_type": "stream",
     "text": [
      "BRAND : Himalaya\n",
      "PRODUCT : Neem & Turmeric Soap\n",
      "MANUFACTURER : Himalaya Wellness Company\n",
      "MANUFACTURER : Himalaya Wellness Company\n",
      "PRODUCT : OCEAN KELP Anti Hair Fall Shampoo\n",
      "SIZE : 11.49 fl.oz\n",
      "SIZE : 340 ml\n"
     ]
    }
   ],
   "source": [
    "doc = nlp(\"\"\"Himalaya Neem & Turmeric Soap # ETYS is enriched with a unique blend of Neem and Turmeric extracts. Neem, TYSOLATONI well-known for its anti-bacterial properties, helps protect skin from HOALON, germs. Turmeric known for its antiseptic properties, helps protect skin and keeps it healthy. Combining the best of nature and science, this superior grade 1 soap leaves skin healthy and purified naturally. KILLS Protects and Purifies Skin 99.9%* 1 Grade 1 Soap pure Unique Blend of 76% TFM natural\" Neem and Dermatologically GERMS Turmeric extracts Tested ^enriched with pure and natural Neem and Turmeric extracts @ Regd. Trademark Trademark Owner: Himalaya Global Holdings Ltd. through Licensed User: Himalaya Wellness Company Copyright subsists. Imitation and reproduction of the same would be punishable. Store in a cool and dry place, away from direct heat and sunlight. *Basis lab test on representative organisms. For location address (see address panel) refer first two/three digits of the Batch No. Manufactured by: Himalaya Wellness Company At (27) No. 7/8, KIADB industrial Area, Hirehalli, Tumokuru 572168. Mfg. Lic. No. M 1KTK/32A/49/2013 At (109) Unit-III, Plant No. 2. Plot No.-5 Apparel Park Cum industrial Area, Village Katha, Baddi, Dist. Solon (H.P.) 173205 Mfg. Lic. No. M HIM/COS/L/22/328 Net Wt.: 125 g For queries, contact Manager - Customer Care Himalaya Wellness Company Makali, Bengaluru 562162 (When packed) Email: contactus@himalayoweliness.com TFM: 76% Grade 1 Call 1-800-208-1930 (Toll-free in india) 8901138714550> www.himoloyaweliness.com IND-5056456\n",
    "BIOTIQUE ADVANCED AYURVEDA OCEAN KELP Anti Hair Fall Shampoo Intensive Hair Growth Therapy 6 AYURVEDIC RECIPE 100% BOTANICAL EXTRACTS 11.49 fl.oz 340 ml\n",
    "\"\"\")\n",
    "for ent in doc.ents:\n",
    "    print(ent.label_, \":\", ent.text)"
   ]
  },
  {
   "cell_type": "code",
   "execution_count": 22,
   "metadata": {},
   "outputs": [
    {
     "name": "stdout",
     "output_type": "stream",
     "text": [
      "PRODUCT : OCEAN KELP Anti Hair Fall Shampoo\n",
      "EXPIRY_DATE : 11/2023\n",
      "USB : 3 years\n",
      "PRICE : RS. 360.00\n",
      "MANUFACTURER : Bio Veda Farmacy Pvt.\n"
     ]
    }
   ],
   "source": [
    "doc = nlp(\"\"\"OCEAN KELP Anti Hair Fall Shampoo This nourishing shampoo neem bark is a and blend of pure kelp, natural gently cleanse hair and invigorate plant proteins, bhringraj contains scalp Flame of the forest & Indian soapberry, extract, for fresh growth and healthier shine, Also the To Use: Apply liberally to wet hair and work lather through strands, from scalp to ends. Rinsewell with water. Organically pure a preservative free. Dermatologist tested for safety. No animal testing. SHOP ONLINE AT WWW.BIOTIQUE.COM Net Vol. {When Packed} : 11.49 fl. oz. / 340 ml For Date of Mfg. (MM/YYYY), Batch No., MRP (Inclusive of all taxes) ₹: See Pack 11/2023 Use before: 3 years B312702 from date of Mfg. RS. 360.00 Carefully manufactured and marketed First (RS 1. 06/ml) by, Bio Veda Farmacy Pvt. Ltd., Floor, Khasra no. 439/42, 441/43, Ghat, 526/442/43, Mauja-Rampur Tehsil-Paonta Dist-Sirmour, Sahib, Pin 173025.(HP India, Mfg. advisor any at : 91-120-4299700 For questions, contact N 1-800-103-9825 (Toll-free Email: contact@biotique.com D-105, Phase 150 AYURVEDIC RECIPE 100% so\n",
    "\"\"\")\n",
    "for ent in doc.ents:\n",
    "    print(ent.label_, \":\", ent.text)"
   ]
  },
  {
   "cell_type": "code",
   "execution_count": 23,
   "metadata": {},
   "outputs": [
    {
     "name": "stdout",
     "output_type": "stream",
     "text": [
      "BRAND : BIOTIQUE\n",
      "PRODUCT : MORNING NECTAR Nourish & Hydrate Moisturizer\n",
      "EXPIRY_DATE : 02/2024\n",
      "PRICE : RS.330.00\n",
      "USB : 3 years\n",
      "MANUFACTURER : Bio Veda Farmacy Pvt. Ltd.\n"
     ]
    }
   ],
   "source": [
    "doc = nlp(\"\"\"BIOTIQUE ADVANCED AYURVEDA MORNING NECTAR Nourish & Hydrate Moisturizer For Visibly Flawless Skin All Skin Types AYURVEDIC RECIPE 100% BOTANICAL EXTRACTS .\n",
    "3 STEPS TO FLAWLESS SKIN 1. CLEANSE STEP MORNING NECTAR MO Moisturize & Nourish Face Wash STEP 2. REPLENISH Nourish & Hydrate Serum MORNING NECTAR No STEP3.NOURISH MORNING NECTAR Nourish & Hydrate Moisturizer AS NEEDED MORNING NECTAR Sun Protect Moisturizer 30+SPF UVA/UVB Sunscreen 02/2024 For Date of Mfg. (MM/YYYY), 8404505 Batch No., MRP (Inclusive RS.330.00 of all taxes) ₹: See Pack Use before: 3 years (RS.1.74/ml) from date of Mfg. For any questions, contact consumer advisor at : 91-120-4299700 or call: 1-800-103-9825 (Toll-free in India) Email: contact@biotique.com; D-105, Phase 2, Noida, U.P. Carefully manufactured and marketed by, Bio Veda Farmacy Pvt. Ltd., First Floor, Khasra no. 439/42, 441/43, 526/442/43, Mauja-Rampur Ghat, Tehsil-Paonta Sahib, Dist-Sirmour, Pin 173025, (H.P.), India, 8 Mfg. L.No.:N-COS/2021/53\n",
    "\"\"\")\n",
    "for ent in doc.ents:\n",
    "    print(ent.label_, \":\", ent.text)"
   ]
  },
  {
   "cell_type": "code",
   "execution_count": 24,
   "metadata": {},
   "outputs": [
    {
     "name": "stdout",
     "output_type": "stream",
     "text": [
      "BRAND : Ching's\n",
      "PRODUCT : RED CHILLI SAUCE\n",
      "BRAND : Ching's\n",
      "PRODUCT : Red Chilli Sauce\n",
      "MANUFACTURER : Fortune Foods Ltd.\n",
      "SIZE : 90g\n"
     ]
    }
   ],
   "source": [
    "doc = nlp(\"\"\"Ching's SECRET RED CHILLI SAUCE IV. Desi\n",
    "RED CHILLI SAUCE A sandwich dip to die for Perfect with sub-sandwich! Ching's Secret Red Chilli Sauce is the Desi Chinese to turn the heat on! A fiery blend of hand-picked North East Indian red way chillies, sharp vinegar and secret spices, sweet it can heat. transport Is it hot, any is it snack sweet, to is a mouthwatering it sour? level of Let your drooling taste buds decide! INGREDIENTS: Water, Sugar, Red Chilli (6%), Garlic, Ginger, lodised Salt. Thickener (INS 1422), Acidity Regulators (INS 260, INS 330), Emulsifying and Stabilizing Agent (INS 415), Preservative (INS 211). Allergen Advice: May contain: Wheat, Nuts, Sesame seeds, Soy, Mustard and Milk. Nutritional Information Serving Size 8g, Servings per package 11: 7 Per 100g, RDA/Serve: Energy (kcal) 113, 0.5%; Protein (g) 0.4: OTHER Carbohydrate (g) 27.4: Total Sugars (g) 24.7; Added Sugars (g) 20.0. 3.2%: For Sale in dia Total Fat (g) 0.2, 0.0% Cholesterol (mg) 0.0; Sodium (mg) 1104, 4.4% Nepal, Bhut: and \"Approximate Values Based on 2000 Kcal diet recommended for Adult Bangladesh only. BATCH NO.: MRP 3. (incl. of all taxes) DATE OF MFG.: 1 USE BY: NR.ISHIWARA BRIDGE, S. V. ROAD, JOGESHWARI (W), MUMBAI - 400 102. BRAND OWNED & MARKETED BY: CAPITAL FOODS PVT. LTD., VILLA CAPITAL, SADHANA COMPOUND FOR ANY COMPLAINT CONTACT MANAGER CONSUMER Lic. No. 10013022001865 fssa! CONNECT AT BRAND OWNED & MARKETED BY ADDRESS ABOVE. C022 67740100 AND x CUSTOMERCARE@CAPITALFOODS.CO.IN KEEP in a cool, dry and hygienic place. Manufactured by: (F) Fortune Foods Ltd., Gut No 256/2, Village Store REFRIGERATED AFTER OPENING. Awankhed, Tal . Dindori, Nasik . 422 202. Lic. No. 10013022001948 NET WEIGHT: 90g (P) Pan Foods (Div. of Kayem Food Industries Pvt. Ltd.), G.T. Road, Opposite Khadi Ashram, Panipat, (Haryana) . 132 104. Lic. No. 10012064000055 (N) ANN FMCG PVT. LTD., Village Goal Jamala Tehsil Nalaga Distt. Solan, Himachal Pradesh . 174 101. Lic. No. 10018082000413 FOR THE MFG UNIT ADDRESS MATCH THE FIRST CHARACTER OF THE 8 90159 BATCH NUMBER WITH THE CORRESPONDING ALPHABET BEFORE Ching's Secret is of Capital Foods Pvt. Registered Ltd India Trademark the 862825 THE ADDRESS IN THE MFD ADDRESS PANEL Do not consume if packet found leaked or bloated. 1101948 Recipes at www.chingssecret.com\n",
    "          \"\"\")\n",
    "for ent in doc.ents:\n",
    "    print(ent.label_, \":\", ent.text)"
   ]
  },
  {
   "cell_type": "code",
   "execution_count": 25,
   "metadata": {},
   "outputs": [
    {
     "name": "stdout",
     "output_type": "stream",
     "text": [
      "BRAND : Ching's\n",
      "PRODUCT : RED CHILLI SAUCE\n",
      "BRAND : Ching's\n",
      "PRODUCT : Red Chilli Sauce\n",
      "MANUFACTURER : Fortune Foods Ltd.\n",
      "SIZE : 90g\n"
     ]
    }
   ],
   "source": [
    "doc = nlp(\"\"\"Ching's SECRET RED CHILLI SAUCE IV. Desi\n",
    "RED CHILLI SAUCE A sandwich dip to die for Perfect with sub-sandwich! Ching's Secret Red Chilli Sauce is the Desi Chinese to turn the heat on! A fiery blend of hand-picked North East Indian red way chillies, sharp vinegar and secret spices, sweet it can heat. transport Is it hot, any is it snack sweet, to is a mouthwatering it sour? level of Let your drooling taste buds decide! INGREDIENTS: Water, Sugar, Red Chilli (6%), Garlic, Ginger, lodised Salt. Thickener (INS 1422), Acidity Regulators (INS 260, INS 330), Emulsifying and Stabilizing Agent (INS 415), Preservative (INS 211). Allergen Advice: May contain: Wheat, Nuts, Sesame seeds, Soy, Mustard and Milk. Nutritional Information Serving Size 8g, Servings per package 11: 7 Per 100g, RDA/Serve: Energy (kcal) 113, 0.5%; Protein (g) 0.4: OTHER Carbohydrate (g) 27.4: Total Sugars (g) 24.7; Added Sugars (g) 20.0. 3.2%: For Sale in dia Total Fat (g) 0.2, 0.0% Cholesterol (mg) 0.0; Sodium (mg) 1104, 4.4% Nepal, Bhut: and \"Approximate Values Based on 2000 Kcal diet recommended for Adult Bangladesh only. BATCH NO.: MRP 3. (incl. of all taxes) DATE OF MFG.: 1 USE BY: NR.ISHIWARA BRIDGE, S. V. ROAD, JOGESHWARI (W), MUMBAI - 400 102. BRAND OWNED & MARKETED BY: CAPITAL FOODS PVT. LTD., VILLA CAPITAL, SADHANA COMPOUND FOR ANY COMPLAINT CONTACT MANAGER CONSUMER Lic. No. 10013022001865 fssa! CONNECT AT BRAND OWNED & MARKETED BY ADDRESS ABOVE. C022 67740100 AND x CUSTOMERCARE@CAPITALFOODS.CO.IN KEEP in a cool, dry and hygienic place. Manufactured by: (F) Fortune Foods Ltd., Gut No 256/2, Village Store REFRIGERATED AFTER OPENING. Awankhed, Tal . Dindori, Nasik . 422 202. Lic. No. 10013022001948 NET WEIGHT: 90g (P) Pan Foods (Div. of Kayem Food Industries Pvt. Ltd.), G.T. Road, Opposite Khadi Ashram, Panipat, (Haryana) . 132 104. Lic. No. 10012064000055 (N) ANN FMCG PVT. LTD., Village Goal Jamala Tehsil Nalaga Distt. Solan, Himachal Pradesh . 174 101. Lic. No. 10018082000413 FOR THE MFG UNIT ADDRESS MATCH THE FIRST CHARACTER OF THE 8 90159 BATCH NUMBER WITH THE CORRESPONDING ALPHABET BEFORE Ching's Secret is of Capital Foods Pvt. Registered Ltd India Trademark the 862825 THE ADDRESS IN THE MFD ADDRESS PANEL Do not consume if packet found leaked or bloated. 1101948 Recipes at www.chingssecret.com\n",
    "rmation Serving Size 8g, Servings per package 11: 7 DA/Serve: Energy (kcal) 113, 0.5%; Protein (g) 0.4; OTHER 27.4; Total Sugars (g) 24.7; Added Sugars (g) 20.0, 3.2%; For Sale in India, 0.0%; Cholesterol (mg) 0.0; Sodium (mg) 1104, 4.4%. Nepal, Bhutan and alues Based on 2000 Kcal diet recommended for Adult Bangladesh only. taxes) 17) MFG 0 A & MARKETED BY: CAPITAL FOODS PVT. LTD. VILLA CAPITAL, SADHANA COMPOUND COMPL BRIDGE AINT S.V. ROAD, CONTACT JOGESHWARI MANAGER (W), MUMBAI - 400 102. lie No 10013022001865 fssat\n",
    "\"\"\")\n",
    "for ent in doc.ents:\n",
    "    print(ent.label_, \":\", ent.text)"
   ]
  },
  {
   "cell_type": "code",
   "execution_count": 26,
   "metadata": {},
   "outputs": [
    {
     "name": "stdout",
     "output_type": "stream",
     "text": [
      "BRAND : BIOTIQUE\n",
      "PRODUCT : ADVANCED AYURVEDA PAPAYA Deep Cleanse Face Wash\n",
      "EXPIRY_DATE : 05/2024\n",
      "PRICE : RS.315.00\n",
      "USB : 3 years\n",
      "MANUFACTURER : Bio Veda Farmacy Pvt. Ltd.\n",
      "SIZE : 6.76 fl. oz.\n",
      "PRICE : /200 ml\n"
     ]
    }
   ],
   "source": [
    "doc = nlp(\"\"\"BIOTIQUE ADVANCED AYURVEDA PAPAYA Deep Cleanse Face Wash For Visibly Glowing Skin All Skin Types AYURVEDIC RECIPE 100% BOTANICAL EXTRACTS\n",
    "VISIBLE DIFFERENCE STEPS TO GLOWING AGELESS SKIN STEP 1. FACE WASH PAPAYA DANDELION STEP 2. VITALIZE SERUM STEP 3. NOURISH AS NEEDED SAFFRON YOUTH DEW MORNING NECTAR 30+SPF UVA/UVB Sunscreen 05/2024 B410303 For Date of Mfg. (MM/YYYY), RS.315.00 Batch No., MRP (Inclusive of all taxes) ₹: See Pack (RS . . .58/m1 ) Use before: 3 years from date of Mfg. For any questions, contact consumer advisor at : 91-120-4299700 or call: 1-800-103-9825 (Toll-free in India) Email: contact@biotique.com; D-105, Phase 2, Noida, U.P. Carefully manufactured and marketed by, Bio Veda Farmacy Pvt. Ltd., First Floor, Khasra no. 439/42, 441/43, 526/442/43, Mauja-Rampur Ghat, Tehsil-Paonta Sahib, Dist- Sirmour, Pin 173025, (H.P.), India, Mfg. 00 L.No.:N-COS/2021/53\n",
    "Ayurveda Skin Life Source PAPAYA Deep Cleanse Face Wash purifies, deep cleanses, refines and illuminates skin. Eliminates flakes. Cleanses pores. Dissolves makeup and oil. Smoothes the way to a fresh, polished, glowing complexion. Contains Papaya Juice, Neem Leaves, Wild Turmeric & Walnut Shell Powder. TO USE Gently massage over wet face & neck with fingertips, lather & rinse, morning and evening. Organically pure & preservative free. Dermatologist tested for safety. No animal testing. www.biotique.com Net Vol. {When Packed}: : 6.76 fl. oz. /200 ml 12 M\n",
    "\"\"\")\n",
    "for ent in doc.ents:\n",
    "    print(ent.label_, \":\", ent.text)"
   ]
  },
  {
   "cell_type": "code",
   "execution_count": 27,
   "metadata": {},
   "outputs": [
    {
     "name": "stdout",
     "output_type": "stream",
     "text": [
      "PRICE : Rs 80.00\n",
      "EXPIRY_DATE : 2/2024\n",
      "EXPIRY_DATE : 01/2027\n",
      "SIZE : 50 ml\n",
      "MANUFACTURER : Himalaya Wellness Company\n"
     ]
    }
   ],
   "source": [
    "doc = nlp(\"\"\"opt Rs 80.00 92400104 2/2024-01/2027 USP : Rs 01.60/ml Himolovu Moisturizing Aloe Veru Face Wash is a clinically tested soop-free and conditioners naturally derived made for dry with and dull skin Natural Vitamin E and Aloe plant-based Vera skin cleanses Vera without over-drying cleanser, this face wash Enriched with with a skin-friendly Cucumber pH gently Aloe moisturizes your skin your leaving skin it Cucumber soft, supple. cools and and glowing. soothes. while PURE Moisturizing blend of CARING CONSCIOUS Aloe Vera and Cucumber Soap-free formulation 900,000 trees planted Tested for purity Naturally derived and counting and safety cleanser Vegetarian formula Free from parabens 100% recyclable and phtholates Vera Face and gently work up a lother using a circular motion. Wash off DIRECTIONS: Wash Moisten face and neck apply a small amount of Moisturizing Aloe and pot dry Use twice daily Acid Glycerin, Sodium Louroy! Sarcosinate Glycol Stearate Glyceryl Stearate INGREDIENTS Aqua. Ammonium Lauryl Sulfate Cocomidopropyl Betaine Stearic PEG-100 Stearate Cucumis Sativus Fruit Extract Cetyl Alcohol Fragrance Kanthan Gum Phenoxyethanol Aloe Barbadensis Leaf Extract Ceteary Alcohol Caco-Glucoside 5 Glycery Diecte Methyichloroisothiazolinone & Methylisothiazolinore Manthol Tocopherol Disodium EDTA CI 19140 a 42053 Formulations containing herbs tend to change color over time. However, the product efficacy remains unchanged FOR EXTERNAL USE ONLY Store in a cool and dry place, away from direct heat and sunlight. For Batch No. Mfg. Date-Use before Date, MRP Rs Incl. of gl) taxes and USP. see below crimp. A Net Vol. 50 ml N N Copyright subsists Imitation and o reproduction of the same C would be punishable in I Regd Trademark x Trademark Owner Himalaya Global Holdings Ltd Licensed User: Hmoloya Wellness Company Ramfo location address (see address ponel refer first two digits of the Batch No. Manufactured by: Himalaya Wellness Company (c)(20) No. 182 Village Gurumajra Tehsil Baddi. 174101. 1st Solon (H.P.) Mfg. Lic. No. M HIM/COS/L/12/16 (99) Unit-IL Plot No. 114 A: Khasro No. 2214/2036/1785 S/2037/1785 2224/2038/1785 Village & Post office Thana Phase IL Tehsil Boddi, Dist. Solon H.P. - 173 205 Lic No M HIM/COS/L/20/296 andaya Wellness Company. Mokoli. Bengaluru 562 162 queries contact: Manager - Customer Care Email: contactus@himdbyawelness.com I Cal 1-800-208-1930 (Toli-free in India) www.himoloyowellness.com\n",
    "          \"\"\")\n",
    "for ent in doc.ents:\n",
    "    print(ent.label_, \":\", ent.text)"
   ]
  },
  {
   "cell_type": "code",
   "execution_count": 4,
   "metadata": {},
   "outputs": [
    {
     "name": "stdout",
     "output_type": "stream",
     "text": [
      "PRICE : years\n"
     ]
    }
   ],
   "source": [
    "doc = nlp(\"\"\"Free 200ml Refill worth ₹59# Dettol FOAMING BE 100% SURE 10x BETTER GERM PROTECTION* Foaming Handwash STRAWBERRY FRAGRANCE\n",
    "FOAMING HANDWASH Dettol STRAWBERRY FRAGRANCE Dettol Foaming Handwash is a moisture-rich foam that removes dirt and germs while being gentle on skin. \"Get free 200ml Detto Foaming Handwash Refil world is 5g III purchase or 250ml Cettul Foaming Handwash Pump Dermatologically pH pH Free From Tested Balanced Parabens/TCC Ingredients: Aqua, Sodium Laureth Sulphate, Ammonium Lauryl Sulphate, Glycerin, Cocamide MEA, Parfum, Citric Acid, Salicylic Acid, EDTA Tetrasodium, Disodium EDTA, Methylchloroisothiazolinone, Methylisothiazolinone, Sodium Chloride, Sodium Sulphate, CI 17200, CI 15510 Caution: For External use only. Keep out of reach of children unless Usage Directions: Ensuring the cap is tight, turn the under adult supervision Avoid contact with eyes. in case of contact pump clockwise to open. Pump to apply product Rub with eyes, rinse immediately with plenty of water. If persistant hands together ensuring total coverage with Lather, not irritation occurs, get medical attention. Not to be used on children forgetting nails and thumbs. Rinse well with water. under 3 years of age. Do not rinse the pump under water. Made in Mfd. by : Allkind Healthcare, Address: Unit-II, Plot No. India. Foaming Handwash Marketed by/For Consumer 114-A, Khasra Nos 2214/2036/1785, 2219/2037/1785, Complaints contact Reckitt Consumer Care at Reckitt 2224/2038/1785, EPIP, Phase-II, Village & Post Thana. Benckiser (India) Pvt Ltd., DLF Cyber Park, 6th & 7th Roor (Tower Tehsil-Baddi, District- (H.P.)-173205 M.L. No. N C), 405 B, Udyog Vihar Phase II, Sector 20, Gurugram-122016. HIM/COS/20/295 3273908 Toll Free Number: 18001035012 Email: Net Volume: 250ml 8 901396 389118 MRP: ₹ (inclusive of all taxes), Batch No., Mfd. M. & Use Before (#), see Rs 149.00 coding on Label Dettol and sword device are BKA044035 trademarks of Reckitt 14 : 34 Benckiser. VV Liquid hand 00/24,#04/26 wash Rs.0.60 Per m L ® 5 PP reckitt pack. Offer valid till stocks last. Offer valid in select cities/stores. Stocks also available without this offer.\n",
    "\"\"\")\n",
    "for ent in doc.ents:\n",
    "    print(ent.label_, \":\", ent.text)"
   ]
  },
  {
   "cell_type": "code",
   "execution_count": null,
   "metadata": {},
   "outputs": [],
   "source": []
  }
 ],
 "metadata": {
  "kernelspec": {
   "display_name": "flipkart",
   "language": "python",
   "name": "python3"
  },
  "language_info": {
   "codemirror_mode": {
    "name": "ipython",
    "version": 3
   },
   "file_extension": ".py",
   "mimetype": "text/x-python",
   "name": "python",
   "nbconvert_exporter": "python",
   "pygments_lexer": "ipython3",
   "version": "3.10.11"
  }
 },
 "nbformat": 4,
 "nbformat_minor": 2
}
